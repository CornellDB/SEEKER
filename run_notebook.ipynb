{
 "cells": [
  {
   "cell_type": "markdown",
   "metadata": {},
   "source": [
    "# Seeker Notebook Demo"
   ]
  },
  {
   "cell_type": "markdown",
   "metadata": {},
   "source": [
    "The goal of the notebook is to test all the functionalities of the SEEKER architecture. As can be seen in the diagrams, the program has two main processes: loading multiple datasets and exploring them through different types of search."
   ]
  },
  {
   "cell_type": "code",
   "execution_count": 24,
   "metadata": {},
   "outputs": [
    {
     "name": "stdout",
     "output_type": "stream",
     "text": [
      "Looking in indexes: https://test.pypi.org/simple/Note: you may need to restart the kernel to use updated packages.\n"
     ]
    },
    {
     "name": "stderr",
     "output_type": "stream",
     "text": [
      "\n",
      "[notice] A new release of pip is available: 23.2.1 -> 24.2\n",
      "[notice] To update, run: python.exe -m pip install --upgrade pip\n"
     ]
    },
    {
     "name": "stdout",
     "output_type": "stream",
     "text": [
      "\n",
      "Collecting seeker-cornell==1.0.1\n",
      "  Obtaining dependency information for seeker-cornell==1.0.1 from https://test-files.pythonhosted.org/packages/42/b9/e33d98357984c017ca1ed42274ea1242602b8a4af468c9c3850da028a240/seeker_cornell-1.0.1-py3-none-any.whl.metadata\n",
      "  Downloading https://test-files.pythonhosted.org/packages/42/b9/e33d98357984c017ca1ed42274ea1242602b8a4af468c9c3850da028a240/seeker_cornell-1.0.1-py3-none-any.whl.metadata (4.0 kB)\n",
      "Requirement already satisfied: bson>=0.5.10 in c:\\users\\user\\cornell\\seeker\\venv\\lib\\site-packages (from seeker-cornell==1.0.1) (0.5.10)\n",
      "Requirement already satisfied: pandas>=1.0.0 in c:\\users\\user\\cornell\\seeker\\venv\\lib\\site-packages (from seeker-cornell==1.0.1) (2.2.2)\n",
      "Requirement already satisfied: python-dateutil>=2.4.0 in c:\\users\\user\\cornell\\seeker\\venv\\lib\\site-packages (from bson>=0.5.10->seeker-cornell==1.0.1) (2.9.0.post0)\n",
      "Requirement already satisfied: six>=1.9.0 in c:\\users\\user\\cornell\\seeker\\venv\\lib\\site-packages (from bson>=0.5.10->seeker-cornell==1.0.1) (1.16.0)\n",
      "Requirement already satisfied: numpy>=1.23.2 in c:\\users\\user\\cornell\\seeker\\venv\\lib\\site-packages (from pandas>=1.0.0->seeker-cornell==1.0.1) (2.0.1)\n",
      "Requirement already satisfied: pytz>=2020.1 in c:\\users\\user\\cornell\\seeker\\venv\\lib\\site-packages (from pandas>=1.0.0->seeker-cornell==1.0.1) (2024.1)\n",
      "Requirement already satisfied: tzdata>=2022.7 in c:\\users\\user\\cornell\\seeker\\venv\\lib\\site-packages (from pandas>=1.0.0->seeker-cornell==1.0.1) (2024.1)\n",
      "Downloading https://test-files.pythonhosted.org/packages/42/b9/e33d98357984c017ca1ed42274ea1242602b8a4af468c9c3850da028a240/seeker_cornell-1.0.1-py3-none-any.whl (10 kB)\n",
      "Installing collected packages: seeker-cornell\n",
      "  Attempting uninstall: seeker-cornell\n",
      "    Found existing installation: seeker-cornell 1.0.0\n",
      "    Uninstalling seeker-cornell-1.0.0:\n",
      "      Successfully uninstalled seeker-cornell-1.0.0\n",
      "Successfully installed seeker-cornell-1.0.1\n"
     ]
    }
   ],
   "source": [
    "pip install -i https://test.pypi.org/simple/ seeker-cornell==1.0.1"
   ]
  },
  {
   "cell_type": "code",
   "execution_count": 25,
   "metadata": {},
   "outputs": [
    {
     "name": "stdout",
     "output_type": "stream",
     "text": [
      "Name: seeker-cornell\n",
      "Version: 1.0.1\n",
      "Summary: Search Engine for Efficient Knowledge Extraction and Retrieval\n",
      "Home-page: https://github.com/CornellDB/SEEKER/\n",
      "Author: Santiago Martínez Novoa\n",
      "Author-email: sm2936@cornell.edu\n",
      "License: \n",
      "Location: c:\\Users\\user\\Cornell\\SEEKER\\venv\\Lib\\site-packages\n",
      "Requires: bson, pandas\n",
      "Required-by: \n",
      "Note: you may need to restart the kernel to use updated packages.\n"
     ]
    }
   ],
   "source": [
    "pip show seeker-cornell"
   ]
  },
  {
   "cell_type": "code",
   "execution_count": 26,
   "metadata": {},
   "outputs": [
    {
     "name": "stdout",
     "output_type": "stream",
     "text": [
      "Name: seeker-cornell\n",
      "Version: 1.0.1\n",
      "Summary: Search Engine for Efficient Knowledge Extraction and Retrieval\n",
      "Home-page: https://github.com/CornellDB/SEEKER/\n",
      "Author: Santiago Martínez Novoa\n",
      "Author-email: sm2936@cornell.edu\n",
      "License: \n",
      "Location: C:\\Users\\user\\Cornell\\SEEKER\\venv\\Lib\\site-packages\n",
      "Requires: bson, pandas\n",
      "Required-by: \n",
      "Files:\n",
      "  data_visualization\\__init__.py\n",
      "  data_visualization\\__pycache__\\__init__.cpython-311.pyc\n",
      "  data_visualization\\__pycache__\\search_visualizer.cpython-311.pyc\n",
      "  data_visualization\\search_visualizer.py\n",
      "  databases\\__init__.py\n",
      "  databases\\__pycache__\\__init__.cpython-311.pyc\n",
      "  dataset_relevance_algorithm\\__init__.py\n",
      "  dataset_relevance_algorithm\\__pycache__\\__init__.cpython-311.pyc\n",
      "  index_creation\\__init__.py\n",
      "  index_creation\\__pycache__\\__init__.cpython-311.pyc\n",
      "  index_creation\\__pycache__\\dataset_model.cpython-311.pyc\n",
      "  index_creation\\dataset_model.py\n",
      "  integration\\__init__.py\n",
      "  integration\\__pycache__\\__init__.cpython-311.pyc\n",
      "  interpreter\\__init__.py\n",
      "  interpreter\\__pycache__\\__init__.cpython-311.pyc\n",
      "  interpreter\\__pycache__\\interpreter.cpython-311.pyc\n",
      "  interpreter\\interpreter.py\n",
      "  metadata_dataset_separation\\__init__.py\n",
      "  metadata_dataset_separation\\__pycache__\\__init__.cpython-311.pyc\n",
      "  metadata_dataset_separation\\__pycache__\\data_import.cpython-311.pyc\n",
      "  metadata_dataset_separation\\data_import.py\n",
      "  quality_evaluator\\__init__.py\n",
      "  quality_evaluator\\__pycache__\\__init__.cpython-311.pyc\n",
      "  quality_evaluator\\__pycache__\\quality_evaluator.cpython-311.pyc\n",
      "  quality_evaluator\\quality_evaluator.py\n",
      "  query_processor\\__init__.py\n",
      "  query_processor\\__pycache__\\__init__.cpython-311.pyc\n",
      "  query_processor\\__pycache__\\query_processor.cpython-311.pyc\n",
      "  query_processor\\query_processor.py\n",
      "  seeker_cornell-1.0.1.dist-info\\INSTALLER\n",
      "  seeker_cornell-1.0.1.dist-info\\LICENSE.txt\n",
      "  seeker_cornell-1.0.1.dist-info\\METADATA\n",
      "  seeker_cornell-1.0.1.dist-info\\RECORD\n",
      "  seeker_cornell-1.0.1.dist-info\\REQUESTED\n",
      "  seeker_cornell-1.0.1.dist-info\\WHEEL\n",
      "  seeker_cornell-1.0.1.dist-info\\top_level.txt\n",
      "  seeker_service_modules\\__init__.py\n",
      "  seeker_service_modules\\__pycache__\\__init__.cpython-311.pyc\n",
      "  seeker_service_modules\\__pycache__\\search_module.cpython-311.pyc\n",
      "  seeker_service_modules\\__pycache__\\text_processing.cpython-311.pyc\n",
      "  seeker_service_modules\\search_module.py\n",
      "  seeker_service_modules\\text_processing.py\n",
      "  transformation_standarisation\\__init__.py\n",
      "  transformation_standarisation\\__pycache__\\__init__.cpython-311.pyc\n"
     ]
    }
   ],
   "source": [
    "!pip show -f seeker-cornell\n"
   ]
  },
  {
   "cell_type": "markdown",
   "metadata": {},
   "source": [
    "# Data import"
   ]
  },
  {
   "cell_type": "code",
   "execution_count": 1,
   "metadata": {},
   "outputs": [
    {
     "name": "stdout",
     "output_type": "stream",
     "text": [
      "Single Dataset Model: DatasetModel(id=3cf45dad-c435-4966-bc9d-43775931a990, name=data)\n",
      "All Dataset Models: {'City_MedianRentalPrice_3Bedroom': DatasetModel(id=7b4afd65-a326-44f1-aa7f-ce563910266b, name=City_MedianRentalPrice_3Bedroom), 'data': DatasetModel(id=be9eeba5-8349-4b5c-bb39-28bfbb8056b6, name=data), 'house_prices': DatasetModel(id=3d6f8191-1ebc-4764-8a87-8fd968fe8ab8, name=house_prices)}\n"
     ]
    }
   ],
   "source": [
    "from seeker.src.metadata_dataset_separation.data_import import DataLoader\n",
    "\n",
    "loader = DataLoader()\n",
    "\n",
    "# Upload a single dataset and its metadata\n",
    "folder_path = 'dataset_examples'\n",
    "dataset_name = 'data'\n",
    "dataset_model = loader.upload(folder_path, dataset_name, include_metadata=True)\n",
    "print(\"Single Dataset Model:\", dataset_model)\n",
    "\n",
    "# Upload multiple datasets and their metadata from a folder\n",
    "dataset_models = loader.upload_multiple(folder_path, include_metadata=True)\n",
    "print(\"All Dataset Models:\", dataset_models)\n",
    "\n"
   ]
  },
  {
   "cell_type": "markdown",
   "metadata": {},
   "source": [
    "# Data Search"
   ]
  },
  {
   "cell_type": "markdown",
   "metadata": {},
   "source": [
    "## Search in Metadata"
   ]
  },
  {
   "cell_type": "markdown",
   "metadata": {},
   "source": [
    "### Succesful Query"
   ]
  },
  {
   "cell_type": "code",
   "execution_count": 2,
   "metadata": {},
   "outputs": [
    {
     "name": "stdout",
     "output_type": "stream",
     "text": [
      "Operations: ['semantic:housing', 'semantic:rent', 'cause_and_consequences:erosion']\n",
      "------------ Search Results ------------\n",
      "Dataset: City_MedianRentalPrice_3Bedroom for search query: 'housing'\n",
      "Score: 1\n",
      "----------------------------------------\n",
      "Dataset: house_prices for search query: 'housing'\n",
      "Score: 1\n",
      "----------------------------------------\n",
      "Dataset: data for search query: 'housing'\n",
      "Score: 0\n",
      "----------------------------------------\n",
      "------------ Search Results ------------\n",
      "Dataset: City_MedianRentalPrice_3Bedroom for search query: 'housing'\n",
      "Score: 1\n",
      "----------------------------------------\n",
      "Dataset: house_prices for search query: 'housing'\n",
      "Score: 1\n",
      "----------------------------------------\n",
      "Dataset: data for search query: 'housing'\n",
      "Score: 0\n",
      "----------------------------------------\n",
      "No results found for search query: 'rent'\n",
      "Performing cause and consequences search for: 'erosion' in dataset of size: 3\n"
     ]
    }
   ],
   "source": [
    "from seeker.src.interpreter.interpreter import SEEKER\n",
    "\n",
    "#Search string given by the user\n",
    "input_string = \"semantic:housing,semantic:rent,cause_and_consequences:erosion\"\n",
    "\n",
    "#Type of search user wants to do\n",
    "search_in_metadata = True\n",
    "\n",
    "#Call the interpreter\n",
    "interpreter = SEEKER(input_string, dataset_models, search_in_metadata)\n",
    "interpreter.process()\n"
   ]
  },
  {
   "cell_type": "markdown",
   "metadata": {},
   "source": [
    "### Unsuccesful Query"
   ]
  },
  {
   "cell_type": "code",
   "execution_count": 3,
   "metadata": {},
   "outputs": [
    {
     "name": "stdout",
     "output_type": "stream",
     "text": [
      "Operations: ['semantic:palm', 'semantic:leasing', 'cause_and_consequences:population']\n",
      "No results found for search query: 'palm'\n",
      "No results found for search query: 'leasing'\n",
      "Performing cause and consequences search for: 'population' in dataset of size: 3\n"
     ]
    }
   ],
   "source": [
    "#Search string given by the user\n",
    "input_string = \"semantic:palm,semantic:leasing,cause_and_consequences:population\"\n",
    "\n",
    "#Type of search user wants to do\n",
    "search_in_metadata = True\n",
    "\n",
    "#Call the interpreter\n",
    "interpreter = SEEKER(input_string, dataset_models, search_in_metadata)\n",
    "interpreter.process()"
   ]
  },
  {
   "cell_type": "markdown",
   "metadata": {},
   "source": [
    "## Search in Content"
   ]
  },
  {
   "cell_type": "markdown",
   "metadata": {},
   "source": [
    "### Succesful Query"
   ]
  },
  {
   "cell_type": "code",
   "execution_count": 4,
   "metadata": {},
   "outputs": [
    {
     "name": "stdout",
     "output_type": "stream",
     "text": [
      "Operations: ['semantic:housing', 'semantic:palm', 'cause_and_consequences:erosion']\n",
      "------------ Search Results ------------\n",
      "Dataset: house_prices for search query: 'housing'\n",
      "Score: 1373\n",
      "Top Words:\n",
      "  flat: 731123\n",
      "  for: 648323\n",
      "  ready: 560441\n",
      "  this: 542459\n",
      "  the: 525056\n",
      "  sale: 425049\n",
      "  move: 362705\n",
      "  bhk: 359788\n",
      "  resale: 269443\n",
      "  lac: 220793\n",
      "----------------------------------------\n",
      "Dataset: City_MedianRentalPrice_3Bedroom for search query: 'housing'\n",
      "Score: 0\n",
      "Top Words:\n",
      "  county: 968\n",
      "  beach: 184\n",
      "  san: 129\n",
      "  fort: 119\n",
      "  city: 97\n",
      "  miami: 89\n",
      "  los: 82\n",
      "  angeles: 82\n",
      "  palm: 82\n",
      "  west: 81\n",
      "----------------------------------------\n",
      "Dataset: data for search query: 'housing'\n",
      "Score: 0\n",
      "Top Words:\n",
      "  usa: 4600\n",
      "  ave: 1940\n",
      "  seattle: 1574\n",
      "  way: 303\n",
      "  renton: 297\n",
      "  bellevue: 286\n",
      "  redmond: 239\n",
      "  issaquah: 190\n",
      "  sammamish: 188\n",
      "  kirkland: 187\n",
      "----------------------------------------\n",
      "------------ Search Results ------------\n",
      "Dataset: house_prices for search query: 'palm'\n",
      "Score: 675\n",
      "Top Words:\n",
      "  flat: 731123\n",
      "  for: 648323\n",
      "  ready: 560441\n",
      "  this: 542459\n",
      "  the: 525056\n",
      "  sale: 425049\n",
      "  move: 362705\n",
      "  bhk: 359788\n",
      "  resale: 269443\n",
      "  lac: 220793\n",
      "----------------------------------------\n",
      "Dataset: City_MedianRentalPrice_3Bedroom for search query: 'palm'\n",
      "Score: 82\n",
      "Top Words:\n",
      "  county: 968\n",
      "  beach: 184\n",
      "  san: 129\n",
      "  fort: 119\n",
      "  city: 97\n",
      "  miami: 89\n",
      "  los: 82\n",
      "  angeles: 82\n",
      "  palm: 82\n",
      "  west: 81\n",
      "----------------------------------------\n",
      "Dataset: data for search query: 'palm'\n",
      "Score: 0\n",
      "Top Words:\n",
      "  usa: 4600\n",
      "  ave: 1940\n",
      "  seattle: 1574\n",
      "  way: 303\n",
      "  renton: 297\n",
      "  bellevue: 286\n",
      "  redmond: 239\n",
      "  issaquah: 190\n",
      "  sammamish: 188\n",
      "  kirkland: 187\n",
      "----------------------------------------\n",
      "------------ Search Results ------------\n",
      "Dataset: house_prices for search query: 'palm'\n",
      "Score: 675\n",
      "Top Words:\n",
      "  flat: 731123\n",
      "  for: 648323\n",
      "  ready: 560441\n",
      "  this: 542459\n",
      "  the: 525056\n",
      "  sale: 425049\n",
      "  move: 362705\n",
      "  bhk: 359788\n",
      "  resale: 269443\n",
      "  lac: 220793\n",
      "----------------------------------------\n",
      "Dataset: City_MedianRentalPrice_3Bedroom for search query: 'palm'\n",
      "Score: 82\n",
      "Top Words:\n",
      "  county: 968\n",
      "  beach: 184\n",
      "  san: 129\n",
      "  fort: 119\n",
      "  city: 97\n",
      "  miami: 89\n",
      "  los: 82\n",
      "  angeles: 82\n",
      "  palm: 82\n",
      "  west: 81\n",
      "----------------------------------------\n",
      "Dataset: data for search query: 'palm'\n",
      "Score: 0\n",
      "Top Words:\n",
      "  usa: 4600\n",
      "  ave: 1940\n",
      "  seattle: 1574\n",
      "  way: 303\n",
      "  renton: 297\n",
      "  bellevue: 286\n",
      "  redmond: 239\n",
      "  issaquah: 190\n",
      "  sammamish: 188\n",
      "  kirkland: 187\n",
      "----------------------------------------\n",
      "Performing cause and consequences search for: 'erosion' in dataset of size: 3\n"
     ]
    }
   ],
   "source": [
    "from seeker.src.interpreter.interpreter import SEEKER\n",
    "\n",
    "#Search string given by the user\n",
    "input_string = \"semantic:housing,semantic:palm,cause_and_consequences:erosion\"\n",
    "\n",
    "#Type of search user wants to do\n",
    "search_in_metadata = False\n",
    "\n",
    "#Call the interpreter\n",
    "interpreter = SEEKER(input_string, dataset_models, search_in_metadata)\n",
    "interpreter.process()\n"
   ]
  },
  {
   "cell_type": "markdown",
   "metadata": {},
   "source": [
    "### Unsuccesful Query"
   ]
  },
  {
   "cell_type": "code",
   "execution_count": 5,
   "metadata": {},
   "outputs": [
    {
     "name": "stdout",
     "output_type": "stream",
     "text": [
      "Operations: ['semantic:information', 'semantic:relevant', 'cause_and_consequences:climate change']\n",
      "------------ Search Results ------------\n",
      "Dataset: house_prices for search query: 'information'\n",
      "Score: 50\n",
      "Top Words:\n",
      "  flat: 731123\n",
      "  for: 648323\n",
      "  ready: 560441\n",
      "  this: 542459\n",
      "  the: 525056\n",
      "  sale: 425049\n",
      "  move: 362705\n",
      "  bhk: 359788\n",
      "  resale: 269443\n",
      "  lac: 220793\n",
      "----------------------------------------\n",
      "Dataset: City_MedianRentalPrice_3Bedroom for search query: 'information'\n",
      "Score: 0\n",
      "Top Words:\n",
      "  county: 968\n",
      "  beach: 184\n",
      "  san: 129\n",
      "  fort: 119\n",
      "  city: 97\n",
      "  miami: 89\n",
      "  los: 82\n",
      "  angeles: 82\n",
      "  palm: 82\n",
      "  west: 81\n",
      "----------------------------------------\n",
      "Dataset: data for search query: 'information'\n",
      "Score: 0\n",
      "Top Words:\n",
      "  usa: 4600\n",
      "  ave: 1940\n",
      "  seattle: 1574\n",
      "  way: 303\n",
      "  renton: 297\n",
      "  bellevue: 286\n",
      "  redmond: 239\n",
      "  issaquah: 190\n",
      "  sammamish: 188\n",
      "  kirkland: 187\n",
      "----------------------------------------\n",
      "------------ Search Results ------------\n",
      "Dataset: house_prices for search query: 'relevant'\n",
      "Score: 1\n",
      "Top Words:\n",
      "  flat: 731123\n",
      "  for: 648323\n",
      "  ready: 560441\n",
      "  this: 542459\n",
      "  the: 525056\n",
      "  sale: 425049\n",
      "  move: 362705\n",
      "  bhk: 359788\n",
      "  resale: 269443\n",
      "  lac: 220793\n",
      "----------------------------------------\n",
      "Dataset: City_MedianRentalPrice_3Bedroom for search query: 'relevant'\n",
      "Score: 0\n",
      "Top Words:\n",
      "  county: 968\n",
      "  beach: 184\n",
      "  san: 129\n",
      "  fort: 119\n",
      "  city: 97\n",
      "  miami: 89\n",
      "  los: 82\n",
      "  angeles: 82\n",
      "  palm: 82\n",
      "  west: 81\n",
      "----------------------------------------\n",
      "Dataset: data for search query: 'relevant'\n",
      "Score: 0\n",
      "Top Words:\n",
      "  usa: 4600\n",
      "  ave: 1940\n",
      "  seattle: 1574\n",
      "  way: 303\n",
      "  renton: 297\n",
      "  bellevue: 286\n",
      "  redmond: 239\n",
      "  issaquah: 190\n",
      "  sammamish: 188\n",
      "  kirkland: 187\n",
      "----------------------------------------\n",
      "Performing cause and consequences search for: 'climate change' in dataset of size: 3\n"
     ]
    }
   ],
   "source": [
    "#Search string given by the user\n",
    "input_string = \"semantic:information,semantic:relevant,cause_and_consequences:climate change\"\n",
    "\n",
    "#Type of search user wants to do\n",
    "search_in_metadata = False\n",
    "\n",
    "#Call the interpreter\n",
    "interpreter = SEEKER(input_string, dataset_models, search_in_metadata)\n",
    "interpreter.process()"
   ]
  }
 ],
 "metadata": {
  "kernelspec": {
   "display_name": "venv",
   "language": "python",
   "name": "python3"
  },
  "language_info": {
   "codemirror_mode": {
    "name": "ipython",
    "version": 3
   },
   "file_extension": ".py",
   "mimetype": "text/x-python",
   "name": "python",
   "nbconvert_exporter": "python",
   "pygments_lexer": "ipython3",
   "version": "3.11.5"
  }
 },
 "nbformat": 4,
 "nbformat_minor": 2
}
