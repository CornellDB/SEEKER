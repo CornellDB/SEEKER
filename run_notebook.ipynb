{
 "cells": [
  {
   "cell_type": "code",
   "execution_count": 1,
   "metadata": {},
   "outputs": [
    {
     "name": "stdout",
     "output_type": "stream",
     "text": [
      "Looking in indexes: https://test.pypi.org/simple/\n",
      "Collecting seeker-cornell-2024==0.0.0\n",
      "  Downloading https://test-files.pythonhosted.org/packages/4c/f0/2bc10222745aabaaf51345e40dd443cadd5a190cb4a85aa471b94d36bfb7/seeker_cornell_2024-0.0.0-py3-none-any.whl (2.4 kB)\n",
      "Requirement already satisfied: bson>=0.5.10 in c:\\users\\alfre\\onedrive - universidad de los andes\\familia 2021\\santi\\2024-1\\cornell\\data discovery\\seeker\\venv\\lib\\site-packages (from seeker-cornell-2024==0.0.0) (0.5.10)\n",
      "Requirement already satisfied: pandas>=1.0.0 in c:\\users\\alfre\\onedrive - universidad de los andes\\familia 2021\\santi\\2024-1\\cornell\\data discovery\\seeker\\venv\\lib\\site-packages (from seeker-cornell-2024==0.0.0) (2.2.2)\n",
      "Requirement already satisfied: python-dateutil>=2.4.0 in c:\\users\\alfre\\onedrive - universidad de los andes\\familia 2021\\santi\\2024-1\\cornell\\data discovery\\seeker\\venv\\lib\\site-packages (from bson>=0.5.10->seeker-cornell-2024==0.0.0) (2.9.0.post0)\n",
      "Requirement already satisfied: six>=1.9.0 in c:\\users\\alfre\\onedrive - universidad de los andes\\familia 2021\\santi\\2024-1\\cornell\\data discovery\\seeker\\venv\\lib\\site-packages (from bson>=0.5.10->seeker-cornell-2024==0.0.0) (1.16.0)\n",
      "Requirement already satisfied: tzdata>=2022.7 in c:\\users\\alfre\\onedrive - universidad de los andes\\familia 2021\\santi\\2024-1\\cornell\\data discovery\\seeker\\venv\\lib\\site-packages (from pandas>=1.0.0->seeker-cornell-2024==0.0.0) (2024.1)\n",
      "Requirement already satisfied: numpy>=1.22.4 in c:\\users\\alfre\\onedrive - universidad de los andes\\familia 2021\\santi\\2024-1\\cornell\\data discovery\\seeker\\venv\\lib\\site-packages (from pandas>=1.0.0->seeker-cornell-2024==0.0.0) (2.0.0)\n",
      "Requirement already satisfied: pytz>=2020.1 in c:\\users\\alfre\\onedrive - universidad de los andes\\familia 2021\\santi\\2024-1\\cornell\\data discovery\\seeker\\venv\\lib\\site-packages (from pandas>=1.0.0->seeker-cornell-2024==0.0.0) (2024.1)\n",
      "Installing collected packages: seeker-cornell-2024\n",
      "Successfully installed seeker-cornell-2024-0.0.0\n",
      "Note: you may need to restart the kernel to use updated packages.\n"
     ]
    },
    {
     "name": "stderr",
     "output_type": "stream",
     "text": [
      "\n",
      "[notice] A new release of pip is available: 23.0.1 -> 24.1.2\n",
      "[notice] To update, run: python.exe -m pip install --upgrade pip\n"
     ]
    }
   ],
   "source": [
    "pip install -i https://test.pypi.org/simple/ seeker-cornell-2024==0.0.0"
   ]
  },
  {
   "cell_type": "code",
   "execution_count": 3,
   "metadata": {},
   "outputs": [
    {
     "name": "stdout",
     "output_type": "stream",
     "text": [
      "Name: seeker-cornell-2024Note: you may need to restart the kernel to use updated packages.\n",
      "\n",
      "Version: 0.0.0\n",
      "Summary: Search Engine for Efficient Knowledge Extraction and Retrieval\n",
      "Home-page: https://github.com/pypa/sampleproject\n",
      "Author: Santiago Martínez\n",
      "Author-email: agomn99@gmail.com\n",
      "License: \n",
      "Location: c:\\users\\alfre\\onedrive - universidad de los andes\\familia 2021\\santi\\2024-1\\cornell\\data discovery\\seeker\\venv\\lib\\site-packages\n",
      "Requires: bson, pandas\n",
      "Required-by: \n"
     ]
    }
   ],
   "source": [
    "pip show seeker-cornell-2024"
   ]
  },
  {
   "cell_type": "code",
   "execution_count": 10,
   "metadata": {},
   "outputs": [
    {
     "name": "stdout",
     "output_type": "stream",
     "text": [
      "Name: seeker-cornell-2024\n",
      "Version: 0.0.0\n",
      "Summary: Search Engine for Efficient Knowledge Extraction and Retrieval\n",
      "Home-page: https://github.com/pypa/sampleproject\n",
      "Author: Santiago Martínez\n",
      "Author-email: agomn99@gmail.com\n",
      "License: \n",
      "Location: c:\\users\\alfre\\onedrive - universidad de los andes\\familia 2021\\santi\\2024-1\\cornell\\data discovery\\seeker\\venv\\lib\\site-packages\n",
      "Requires: bson, pandas\n",
      "Required-by: \n",
      "Files:\n",
      "  seeker_cornell_2024-0.0.0.dist-info\\INSTALLER\n",
      "  seeker_cornell_2024-0.0.0.dist-info\\LICENSE.txt\n",
      "  seeker_cornell_2024-0.0.0.dist-info\\METADATA\n",
      "  seeker_cornell_2024-0.0.0.dist-info\\RECORD\n",
      "  seeker_cornell_2024-0.0.0.dist-info\\REQUESTED\n",
      "  seeker_cornell_2024-0.0.0.dist-info\\WHEEL\n",
      "  seeker_cornell_2024-0.0.0.dist-info\\top_level.txt\n"
     ]
    }
   ],
   "source": [
    "!pip show -f seeker-cornell-2024\n"
   ]
  }
 ],
 "metadata": {
  "kernelspec": {
   "display_name": "venv",
   "language": "python",
   "name": "python3"
  },
  "language_info": {
   "codemirror_mode": {
    "name": "ipython",
    "version": 3
   },
   "file_extension": ".py",
   "mimetype": "text/x-python",
   "name": "python",
   "nbconvert_exporter": "python",
   "pygments_lexer": "ipython3",
   "version": "3.10.11"
  }
 },
 "nbformat": 4,
 "nbformat_minor": 2
}
