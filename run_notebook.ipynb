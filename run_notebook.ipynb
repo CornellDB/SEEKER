{
 "cells": [
  {
   "cell_type": "markdown",
   "metadata": {},
   "source": [
    "# Seeker Notebook Demo"
   ]
  },
  {
   "cell_type": "markdown",
   "metadata": {},
   "source": [
    "The goal of the notebook is to test all the functionalities of the SEEKER architecture. As can be seen in the diagrams, the program has two main processes: loading multiple datasets and exploring them through different types of search."
   ]
  },
  {
   "cell_type": "code",
   "execution_count": 1,
   "metadata": {},
   "outputs": [
    {
     "name": "stdout",
     "output_type": "stream",
     "text": [
      "Requirement already satisfied: pandas in c:\\users\\alfre\\cornell\\seeker\\venv\\lib\\site-packages (2.2.2)\n",
      "Requirement already satisfied: pytz>=2020.1 in c:\\users\\alfre\\cornell\\seeker\\venv\\lib\\site-packages (from pandas) (2024.1)\n",
      "Requirement already satisfied: tzdata>=2022.7 in c:\\users\\alfre\\cornell\\seeker\\venv\\lib\\site-packages (from pandas) (2024.1)\n",
      "Requirement already satisfied: python-dateutil>=2.8.2 in c:\\users\\alfre\\cornell\\seeker\\venv\\lib\\site-packages (from pandas) (2.9.0.post0)\n",
      "Requirement already satisfied: numpy>=1.22.4 in c:\\users\\alfre\\cornell\\seeker\\venv\\lib\\site-packages (from pandas) (2.0.0)\n",
      "Requirement already satisfied: six>=1.5 in c:\\users\\alfre\\cornell\\seeker\\venv\\lib\\site-packages (from python-dateutil>=2.8.2->pandas) (1.16.0)\n",
      "Note: you may need to restart the kernel to use updated packages.\n"
     ]
    },
    {
     "name": "stderr",
     "output_type": "stream",
     "text": [
      "\n",
      "[notice] A new release of pip is available: 23.0.1 -> 24.1.2\n",
      "[notice] To update, run: python.exe -m pip install --upgrade pip\n"
     ]
    }
   ],
   "source": [
    "pip install pandas"
   ]
  },
  {
   "cell_type": "code",
   "execution_count": 2,
   "metadata": {},
   "outputs": [
    {
     "name": "stdout",
     "output_type": "stream",
     "text": [
      "Looking in indexes: https://test.pypi.org/simple/\n",
      "Requirement already satisfied: seeker-cornell-rebu==0.0.0 in c:\\users\\alfre\\cornell\\seeker\\venv\\lib\\site-packages (0.0.0)\n",
      "Requirement already satisfied: bson>=0.5.10 in c:\\users\\alfre\\cornell\\seeker\\venv\\lib\\site-packages (from seeker-cornell-rebu==0.0.0) (0.5.10)\n",
      "Requirement already satisfied: pandas>=1.0.0 in c:\\users\\alfre\\cornell\\seeker\\venv\\lib\\site-packages (from seeker-cornell-rebu==0.0.0) (2.2.2)\n",
      "Requirement already satisfied: python-dateutil>=2.4.0 in c:\\users\\alfre\\cornell\\seeker\\venv\\lib\\site-packages (from bson>=0.5.10->seeker-cornell-rebu==0.0.0) (2.9.0.post0)\n",
      "Requirement already satisfied: six>=1.9.0 in c:\\users\\alfre\\cornell\\seeker\\venv\\lib\\site-packages (from bson>=0.5.10->seeker-cornell-rebu==0.0.0) (1.16.0)\n",
      "Requirement already satisfied: tzdata>=2022.7 in c:\\users\\alfre\\cornell\\seeker\\venv\\lib\\site-packages (from pandas>=1.0.0->seeker-cornell-rebu==0.0.0) (2024.1)\n",
      "Requirement already satisfied: pytz>=2020.1 in c:\\users\\alfre\\cornell\\seeker\\venv\\lib\\site-packages (from pandas>=1.0.0->seeker-cornell-rebu==0.0.0) (2024.1)\n",
      "Requirement already satisfied: numpy>=1.22.4 in c:\\users\\alfre\\cornell\\seeker\\venv\\lib\\site-packages (from pandas>=1.0.0->seeker-cornell-rebu==0.0.0) (2.0.0)\n",
      "Note: you may need to restart the kernel to use updated packages.\n"
     ]
    },
    {
     "name": "stderr",
     "output_type": "stream",
     "text": [
      "\n",
      "[notice] A new release of pip is available: 23.0.1 -> 24.1.2\n",
      "[notice] To update, run: python.exe -m pip install --upgrade pip\n"
     ]
    }
   ],
   "source": [
    "pip install -i https://test.pypi.org/simple/ seeker-cornell-rebu==0.0.0"
   ]
  },
  {
   "cell_type": "code",
   "execution_count": 6,
   "metadata": {},
   "outputs": [
    {
     "name": "stdout",
     "output_type": "stream",
     "text": [
      "Name: seeker-cornell-rebuNote: you may need to restart the kernel to use updated packages.\n",
      "\n",
      "Version: 0.0.0\n",
      "Summary: Search Engine for Efficient Knowledge Extraction and Retrieval\n",
      "Home-page: https://github.com/pypa/sampleproject\n",
      "Author: Santiago Martínez\n",
      "Author-email: agomn99@gmail.com\n",
      "License: \n",
      "Location: c:\\users\\alfre\\cornell\\seeker\\venv\\lib\\site-packages\n",
      "Requires: bson, pandas\n",
      "Required-by: \n"
     ]
    }
   ],
   "source": [
    "pip show seeker-cornell-rebu"
   ]
  },
  {
   "cell_type": "code",
   "execution_count": 7,
   "metadata": {},
   "outputs": [
    {
     "name": "stdout",
     "output_type": "stream",
     "text": [
      "Name: seeker-cornell-rebu\n",
      "Version: 0.0.0\n",
      "Summary: Search Engine for Efficient Knowledge Extraction and Retrieval\n",
      "Home-page: https://github.com/pypa/sampleproject\n",
      "Author: Santiago Martínez\n",
      "Author-email: agomn99@gmail.com\n",
      "License: \n",
      "Location: c:\\users\\alfre\\cornell\\seeker\\venv\\lib\\site-packages\n",
      "Requires: bson, pandas\n",
      "Required-by: \n",
      "Files:\n",
      "  data_visualization\\__init__.py\n",
      "  data_visualization\\__pycache__\\__init__.cpython-310.pyc\n",
      "  databases\\__init__.py\n",
      "  databases\\__pycache__\\__init__.cpython-310.pyc\n",
      "  dataset_relevance_algorithm\\__init__.py\n",
      "  dataset_relevance_algorithm\\__pycache__\\__init__.cpython-310.pyc\n",
      "  index_creation\\__init__.py\n",
      "  index_creation\\__pycache__\\__init__.cpython-310.pyc\n",
      "  index_creation\\__pycache__\\dataset_model.cpython-310.pyc\n",
      "  index_creation\\dataset_model.py\n",
      "  integration\\__init__.py\n",
      "  integration\\__pycache__\\__init__.cpython-310.pyc\n",
      "  interpreter\\__init__.py\n",
      "  interpreter\\__pycache__\\__init__.cpython-310.pyc\n",
      "  metadata_dataset_separation\\__init__.py\n",
      "  metadata_dataset_separation\\__pycache__\\__init__.cpython-310.pyc\n",
      "  metadata_dataset_separation\\__pycache__\\data_import.cpython-310.pyc\n",
      "  metadata_dataset_separation\\data_import.py\n",
      "  quality_evaluator\\__init__.py\n",
      "  quality_evaluator\\__pycache__\\__init__.cpython-310.pyc\n",
      "  query_processor\\__init__.py\n",
      "  query_processor\\__pycache__\\__init__.cpython-310.pyc\n",
      "  seeker_cornell_rebu-0.0.0.dist-info\\INSTALLER\n",
      "  seeker_cornell_rebu-0.0.0.dist-info\\LICENSE.txt\n",
      "  seeker_cornell_rebu-0.0.0.dist-info\\METADATA\n",
      "  seeker_cornell_rebu-0.0.0.dist-info\\RECORD\n",
      "  seeker_cornell_rebu-0.0.0.dist-info\\REQUESTED\n",
      "  seeker_cornell_rebu-0.0.0.dist-info\\WHEEL\n",
      "  seeker_cornell_rebu-0.0.0.dist-info\\top_level.txt\n",
      "  seeker_service_modules\\__init__.py\n",
      "  seeker_service_modules\\__pycache__\\__init__.cpython-310.pyc\n",
      "  seeker_service_modules\\__pycache__\\search_module.cpython-310.pyc\n",
      "  seeker_service_modules\\search_module.py\n",
      "  transformation_standarisation\\__init__.py\n",
      "  transformation_standarisation\\__pycache__\\__init__.cpython-310.pyc\n"
     ]
    }
   ],
   "source": [
    "!pip show -f seeker-cornell-rebu\n"
   ]
  },
  {
   "cell_type": "markdown",
   "metadata": {},
   "source": [
    "# Data import"
   ]
  },
  {
   "cell_type": "code",
   "execution_count": 12,
   "metadata": {},
   "outputs": [
    {
     "ename": "ImportError",
     "evalue": "attempted relative import beyond top-level package",
     "output_type": "error",
     "traceback": [
      "\u001b[1;31m---------------------------------------------------------------------------\u001b[0m",
      "\u001b[1;31mImportError\u001b[0m                               Traceback (most recent call last)",
      "Cell \u001b[1;32mIn[12], line 2\u001b[0m\n\u001b[0;32m      1\u001b[0m \u001b[38;5;28;01mfrom\u001b[39;00m \u001b[38;5;21;01mmetadata_dataset_separation\u001b[39;00m\u001b[38;5;21;01m.\u001b[39;00m\u001b[38;5;21;01mdata_import\u001b[39;00m \u001b[38;5;28;01mimport\u001b[39;00m DataLoader\n\u001b[1;32m----> 2\u001b[0m \u001b[38;5;28;01mfrom\u001b[39;00m \u001b[38;5;21;01mseeker_service_modules\u001b[39;00m\u001b[38;5;21;01m.\u001b[39;00m\u001b[38;5;21;01msearch_module\u001b[39;00m \u001b[38;5;28;01mimport\u001b[39;00m DataSeeker\n\u001b[0;32m      4\u001b[0m loader \u001b[38;5;241m=\u001b[39m DataLoader()\n\u001b[0;32m      6\u001b[0m \u001b[38;5;66;03m# Upload a single dataset and its metadata\u001b[39;00m\n",
      "File \u001b[1;32mc:\\Users\\alfre\\Cornell\\SEEKER\\venv\\lib\\site-packages\\seeker_service_modules\\__init__.py:1\u001b[0m\n\u001b[1;32m----> 1\u001b[0m \u001b[38;5;28;01mfrom\u001b[39;00m \u001b[38;5;21;01m.\u001b[39;00m\u001b[38;5;21;01msearch_module\u001b[39;00m \u001b[38;5;28;01mimport\u001b[39;00m DataSeeker\n",
      "File \u001b[1;32mc:\\Users\\alfre\\Cornell\\SEEKER\\venv\\lib\\site-packages\\seeker_service_modules\\search_module.py:3\u001b[0m\n\u001b[0;32m      1\u001b[0m \u001b[38;5;28;01mimport\u001b[39;00m \u001b[38;5;21;01mre\u001b[39;00m\n\u001b[0;32m      2\u001b[0m \u001b[38;5;28;01mimport\u001b[39;00m \u001b[38;5;21;01mpandas\u001b[39;00m \u001b[38;5;28;01mas\u001b[39;00m \u001b[38;5;21;01mpd\u001b[39;00m\n\u001b[1;32m----> 3\u001b[0m \u001b[38;5;28;01mfrom\u001b[39;00m \u001b[38;5;21;01m.\u001b[39;00m\u001b[38;5;21;01m.\u001b[39;00m\u001b[38;5;21;01mindex_creation\u001b[39;00m\u001b[38;5;21;01m.\u001b[39;00m\u001b[38;5;21;01mdataset_model\u001b[39;00m \u001b[38;5;28;01mimport\u001b[39;00m DatasetModel\n\u001b[0;32m      5\u001b[0m \u001b[38;5;28;01mclass\u001b[39;00m \u001b[38;5;21;01mDataSeeker\u001b[39;00m:\n\u001b[0;32m      6\u001b[0m     \u001b[38;5;28;01mdef\u001b[39;00m \u001b[38;5;21m__init__\u001b[39m(\u001b[38;5;28mself\u001b[39m, search_query):\n",
      "\u001b[1;31mImportError\u001b[0m: attempted relative import beyond top-level package"
     ]
    }
   ],
   "source": [
    "from metadata_dataset_separation.data_import import DataLoader\n",
    "from seeker_service_modules.search_module import DataSeeker\n",
    "\n",
    "loader = DataLoader()\n",
    "\n",
    "# Upload a single dataset and its metadata\n",
    "folder_path = 'dataset_examples'\n",
    "dataset_name = 'data'\n",
    "dataset_model = loader.upload(folder_path, dataset_name, include_metadata=True)\n",
    "print(\"Single Dataset Model:\", dataset_model)\n",
    "\n",
    "# Upload multiple datasets and their metadata from a folder\n",
    "dataset_models = loader.upload_multiple(folder_path, include_metadata=True)\n",
    "print(\"All Dataset Models:\", dataset_models)\n",
    "\n"
   ]
  },
  {
   "cell_type": "code",
   "execution_count": null,
   "metadata": {},
   "outputs": [],
   "source": [
    "# Initialize the DataSeeker\n",
    "data_seeker = DataSeeker(\"Example dataset search\")\n",
    "\n",
    "# Perform a semantic search\n",
    "query = \"Housing America\"\n",
    "search_results = data_seeker.semantic_search(dataset_models, query, search_in_metadata=True)\n",
    "print(\"Semantic Search Results:\", search_results)\n",
    "\n",
    "search_results_2 = data_seeker.semantic_search(dataset_models, query, search_in_metadata=False)\n",
    "print(\"Semantic Search Results:\", search_results_2)\n"
   ]
  }
 ],
 "metadata": {
  "kernelspec": {
   "display_name": "venv",
   "language": "python",
   "name": "python3"
  },
  "language_info": {
   "codemirror_mode": {
    "name": "ipython",
    "version": 3
   },
   "file_extension": ".py",
   "mimetype": "text/x-python",
   "name": "python",
   "nbconvert_exporter": "python",
   "pygments_lexer": "ipython3",
   "version": "3.10.11"
  }
 },
 "nbformat": 4,
 "nbformat_minor": 2
}
